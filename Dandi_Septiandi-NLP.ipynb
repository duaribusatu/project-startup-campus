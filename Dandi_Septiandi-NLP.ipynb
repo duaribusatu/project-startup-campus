{
  "nbformat": 4,
  "nbformat_minor": 0,
  "metadata": {
    "colab": {
      "provenance": []
    },
    "kernelspec": {
      "name": "python3",
      "display_name": "Python 3"
    },
    "language_info": {
      "name": "python"
    }
  },
  "cells": [
    {
      "cell_type": "markdown",
      "source": [
        "#Task 1: Extracting important words from a text (Tokenization-Stopwords)\n",
        "\n",
        "Write a Python script on a Google Colab: \n",
        "1. Take the whole Pancasila text as input (e.g. from https://en.wikibooks.org/wiki/Indonesian/Texts/Pancasila)\n",
        "2. Do tokenization to the input text.\n",
        "3. List down all stopwords in Indonesian using nltk library.\n",
        "4. Remove stopwords from the input text."
      ],
      "metadata": {
        "id": "0iac_Ca-SqWA"
      }
    },
    {
      "cell_type": "code",
      "source": [
        "import nltk\n",
        "nltk.download(\"popular\")\n",
        "from nltk.tokenize import sent_tokenize, word_tokenize"
      ],
      "metadata": {
        "colab": {
          "base_uri": "https://localhost:8080/"
        },
        "id": "xmjq4czER4Le",
        "outputId": "882a1902-4a33-4fac-f195-66657113a7a3"
      },
      "execution_count": null,
      "outputs": [
        {
          "output_type": "stream",
          "name": "stderr",
          "text": [
            "[nltk_data] Downloading collection 'popular'\n",
            "[nltk_data]    | \n",
            "[nltk_data]    | Downloading package cmudict to /root/nltk_data...\n",
            "[nltk_data]    |   Package cmudict is already up-to-date!\n",
            "[nltk_data]    | Downloading package gazetteers to /root/nltk_data...\n",
            "[nltk_data]    |   Package gazetteers is already up-to-date!\n",
            "[nltk_data]    | Downloading package genesis to /root/nltk_data...\n",
            "[nltk_data]    |   Package genesis is already up-to-date!\n",
            "[nltk_data]    | Downloading package gutenberg to /root/nltk_data...\n",
            "[nltk_data]    |   Package gutenberg is already up-to-date!\n",
            "[nltk_data]    | Downloading package inaugural to /root/nltk_data...\n",
            "[nltk_data]    |   Package inaugural is already up-to-date!\n",
            "[nltk_data]    | Downloading package movie_reviews to\n",
            "[nltk_data]    |     /root/nltk_data...\n",
            "[nltk_data]    |   Package movie_reviews is already up-to-date!\n",
            "[nltk_data]    | Downloading package names to /root/nltk_data...\n",
            "[nltk_data]    |   Package names is already up-to-date!\n",
            "[nltk_data]    | Downloading package shakespeare to /root/nltk_data...\n",
            "[nltk_data]    |   Package shakespeare is already up-to-date!\n",
            "[nltk_data]    | Downloading package stopwords to /root/nltk_data...\n",
            "[nltk_data]    |   Package stopwords is already up-to-date!\n",
            "[nltk_data]    | Downloading package treebank to /root/nltk_data...\n",
            "[nltk_data]    |   Package treebank is already up-to-date!\n",
            "[nltk_data]    | Downloading package twitter_samples to\n",
            "[nltk_data]    |     /root/nltk_data...\n",
            "[nltk_data]    |   Package twitter_samples is already up-to-date!\n",
            "[nltk_data]    | Downloading package omw to /root/nltk_data...\n",
            "[nltk_data]    |   Package omw is already up-to-date!\n",
            "[nltk_data]    | Downloading package omw-1.4 to /root/nltk_data...\n",
            "[nltk_data]    |   Package omw-1.4 is already up-to-date!\n",
            "[nltk_data]    | Downloading package wordnet to /root/nltk_data...\n",
            "[nltk_data]    |   Package wordnet is already up-to-date!\n",
            "[nltk_data]    | Downloading package wordnet2021 to /root/nltk_data...\n",
            "[nltk_data]    |   Package wordnet2021 is already up-to-date!\n",
            "[nltk_data]    | Downloading package wordnet31 to /root/nltk_data...\n",
            "[nltk_data]    |   Package wordnet31 is already up-to-date!\n",
            "[nltk_data]    | Downloading package wordnet_ic to /root/nltk_data...\n",
            "[nltk_data]    |   Package wordnet_ic is already up-to-date!\n",
            "[nltk_data]    | Downloading package words to /root/nltk_data...\n",
            "[nltk_data]    |   Package words is already up-to-date!\n",
            "[nltk_data]    | Downloading package maxent_ne_chunker to\n",
            "[nltk_data]    |     /root/nltk_data...\n",
            "[nltk_data]    |   Package maxent_ne_chunker is already up-to-date!\n",
            "[nltk_data]    | Downloading package punkt to /root/nltk_data...\n",
            "[nltk_data]    |   Package punkt is already up-to-date!\n",
            "[nltk_data]    | Downloading package snowball_data to\n",
            "[nltk_data]    |     /root/nltk_data...\n",
            "[nltk_data]    |   Package snowball_data is already up-to-date!\n",
            "[nltk_data]    | Downloading package averaged_perceptron_tagger to\n",
            "[nltk_data]    |     /root/nltk_data...\n",
            "[nltk_data]    |   Package averaged_perceptron_tagger is already up-\n",
            "[nltk_data]    |       to-date!\n",
            "[nltk_data]    | \n",
            "[nltk_data]  Done downloading collection popular\n"
          ]
        }
      ]
    },
    {
      "cell_type": "markdown",
      "source": [
        "**Tokenization** is the process of dividing the whole text into tokens."
      ],
      "metadata": {
        "id": "HCcbhqIFUnjt"
      }
    },
    {
      "cell_type": "code",
      "execution_count": null,
      "metadata": {
        "colab": {
          "base_uri": "https://localhost:8080/"
        },
        "id": "QceZVINmQ90m",
        "outputId": "270050e3-f744-40a0-fa5c-0a7fc434abcc"
      },
      "outputs": [
        {
          "output_type": "stream",
          "name": "stdout",
          "text": [
            "sent_tokenize : ['Ketuhanan Yang Maha Esa, Kemanusiaan Yang Adil dan Beradab, Persatuan Indonesia, Kerakyatan Yang Dipimpin oleh Hikmat Kebijaksanaan, Dalam Permusyawaratan dan Perwakilan, Keadilan Sosial bagi seluruh Rakyat Indonesia']\n",
            "word_tokenize : ['Ketuhanan', 'Yang', 'Maha', 'Esa', ',', 'Kemanusiaan', 'Yang', 'Adil', 'dan', 'Beradab', ',', 'Persatuan', 'Indonesia', ',', 'Kerakyatan', 'Yang', 'Dipimpin', 'oleh', 'Hikmat', 'Kebijaksanaan', ',', 'Dalam', 'Permusyawaratan', 'dan', 'Perwakilan', ',', 'Keadilan', 'Sosial', 'bagi', 'seluruh', 'Rakyat', 'Indonesia']\n"
          ]
        }
      ],
      "source": [
        "example_text = \"Ketuhanan Yang Maha Esa, Kemanusiaan Yang Adil dan Beradab, Persatuan Indonesia, Kerakyatan Yang Dipimpin oleh Hikmat Kebijaksanaan, Dalam Permusyawaratan dan Perwakilan, Keadilan Sosial bagi seluruh Rakyat Indonesia\"\n",
        "\n",
        "# sent_tokenize (Separated by sentence)\n",
        "sentences = sent_tokenize(example_text)\n",
        "print('sent_tokenize :', sentences)\n",
        "##word_tokenize (Separated by words)\n",
        "words = word_tokenize(example_text)\n",
        "print('word_tokenize :', words)"
      ]
    },
    {
      "cell_type": "markdown",
      "source": [
        "In general, **stopwords** are the words in any language which does not add much meaning to a sentence. In NLP stopwords are those words which are not important in analyzing the data."
      ],
      "metadata": {
        "id": "2AJmnxP3UY6V"
      }
    },
    {
      "cell_type": "code",
      "source": [
        "!pip install PySastrawi"
      ],
      "metadata": {
        "colab": {
          "base_uri": "https://localhost:8080/"
        },
        "id": "_EVT-CfNSawB",
        "outputId": "eacd2c1e-2e32-4168-b1b9-b173e8b40f2c"
      },
      "execution_count": null,
      "outputs": [
        {
          "output_type": "stream",
          "name": "stdout",
          "text": [
            "Looking in indexes: https://pypi.org/simple, https://us-python.pkg.dev/colab-wheels/public/simple/\n",
            "Requirement already satisfied: PySastrawi in /usr/local/lib/python3.7/dist-packages (1.2.0)\n"
          ]
        }
      ]
    },
    {
      "cell_type": "code",
      "source": [
        "# Stopwords\n",
        "from nltk.corpus import stopwords\n",
        "print(stopwords.words('indonesian'))"
      ],
      "metadata": {
        "colab": {
          "base_uri": "https://localhost:8080/"
        },
        "id": "566qsDt23Diy",
        "outputId": "c8105320-2687-44ec-cde3-8553e76d5147"
      },
      "execution_count": null,
      "outputs": [
        {
          "output_type": "stream",
          "name": "stdout",
          "text": [
            "['ada', 'adalah', 'adanya', 'adapun', 'agak', 'agaknya', 'agar', 'akan', 'akankah', 'akhir', 'akhiri', 'akhirnya', 'aku', 'akulah', 'amat', 'amatlah', 'anda', 'andalah', 'antar', 'antara', 'antaranya', 'apa', 'apaan', 'apabila', 'apakah', 'apalagi', 'apatah', 'artinya', 'asal', 'asalkan', 'atas', 'atau', 'ataukah', 'ataupun', 'awal', 'awalnya', 'bagai', 'bagaikan', 'bagaimana', 'bagaimanakah', 'bagaimanapun', 'bagi', 'bagian', 'bahkan', 'bahwa', 'bahwasanya', 'baik', 'bakal', 'bakalan', 'balik', 'banyak', 'bapak', 'baru', 'bawah', 'beberapa', 'begini', 'beginian', 'beginikah', 'beginilah', 'begitu', 'begitukah', 'begitulah', 'begitupun', 'bekerja', 'belakang', 'belakangan', 'belum', 'belumlah', 'benar', 'benarkah', 'benarlah', 'berada', 'berakhir', 'berakhirlah', 'berakhirnya', 'berapa', 'berapakah', 'berapalah', 'berapapun', 'berarti', 'berawal', 'berbagai', 'berdatangan', 'beri', 'berikan', 'berikut', 'berikutnya', 'berjumlah', 'berkali-kali', 'berkata', 'berkehendak', 'berkeinginan', 'berkenaan', 'berlainan', 'berlalu', 'berlangsung', 'berlebihan', 'bermacam', 'bermacam-macam', 'bermaksud', 'bermula', 'bersama', 'bersama-sama', 'bersiap', 'bersiap-siap', 'bertanya', 'bertanya-tanya', 'berturut', 'berturut-turut', 'bertutur', 'berujar', 'berupa', 'besar', 'betul', 'betulkah', 'biasa', 'biasanya', 'bila', 'bilakah', 'bisa', 'bisakah', 'boleh', 'bolehkah', 'bolehlah', 'buat', 'bukan', 'bukankah', 'bukanlah', 'bukannya', 'bulan', 'bung', 'cara', 'caranya', 'cukup', 'cukupkah', 'cukuplah', 'cuma', 'dahulu', 'dalam', 'dan', 'dapat', 'dari', 'daripada', 'datang', 'dekat', 'demi', 'demikian', 'demikianlah', 'dengan', 'depan', 'di', 'dia', 'diakhiri', 'diakhirinya', 'dialah', 'diantara', 'diantaranya', 'diberi', 'diberikan', 'diberikannya', 'dibuat', 'dibuatnya', 'didapat', 'didatangkan', 'digunakan', 'diibaratkan', 'diibaratkannya', 'diingat', 'diingatkan', 'diinginkan', 'dijawab', 'dijelaskan', 'dijelaskannya', 'dikarenakan', 'dikatakan', 'dikatakannya', 'dikerjakan', 'diketahui', 'diketahuinya', 'dikira', 'dilakukan', 'dilalui', 'dilihat', 'dimaksud', 'dimaksudkan', 'dimaksudkannya', 'dimaksudnya', 'diminta', 'dimintai', 'dimisalkan', 'dimulai', 'dimulailah', 'dimulainya', 'dimungkinkan', 'dini', 'dipastikan', 'diperbuat', 'diperbuatnya', 'dipergunakan', 'diperkirakan', 'diperlihatkan', 'diperlukan', 'diperlukannya', 'dipersoalkan', 'dipertanyakan', 'dipunyai', 'diri', 'dirinya', 'disampaikan', 'disebut', 'disebutkan', 'disebutkannya', 'disini', 'disinilah', 'ditambahkan', 'ditandaskan', 'ditanya', 'ditanyai', 'ditanyakan', 'ditegaskan', 'ditujukan', 'ditunjuk', 'ditunjuki', 'ditunjukkan', 'ditunjukkannya', 'ditunjuknya', 'dituturkan', 'dituturkannya', 'diucapkan', 'diucapkannya', 'diungkapkan', 'dong', 'dua', 'dulu', 'empat', 'enggak', 'enggaknya', 'entah', 'entahlah', 'guna', 'gunakan', 'hal', 'hampir', 'hanya', 'hanyalah', 'hari', 'harus', 'haruslah', 'harusnya', 'hendak', 'hendaklah', 'hendaknya', 'hingga', 'ia', 'ialah', 'ibarat', 'ibaratkan', 'ibaratnya', 'ibu', 'ikut', 'ingat', 'ingat-ingat', 'ingin', 'inginkah', 'inginkan', 'ini', 'inikah', 'inilah', 'itu', 'itukah', 'itulah', 'jadi', 'jadilah', 'jadinya', 'jangan', 'jangankan', 'janganlah', 'jauh', 'jawab', 'jawaban', 'jawabnya', 'jelas', 'jelaskan', 'jelaslah', 'jelasnya', 'jika', 'jikalau', 'juga', 'jumlah', 'jumlahnya', 'justru', 'kala', 'kalau', 'kalaulah', 'kalaupun', 'kalian', 'kami', 'kamilah', 'kamu', 'kamulah', 'kan', 'kapan', 'kapankah', 'kapanpun', 'karena', 'karenanya', 'kasus', 'kata', 'katakan', 'katakanlah', 'katanya', 'ke', 'keadaan', 'kebetulan', 'kecil', 'kedua', 'keduanya', 'keinginan', 'kelamaan', 'kelihatan', 'kelihatannya', 'kelima', 'keluar', 'kembali', 'kemudian', 'kemungkinan', 'kemungkinannya', 'kenapa', 'kepada', 'kepadanya', 'kesampaian', 'keseluruhan', 'keseluruhannya', 'keterlaluan', 'ketika', 'khususnya', 'kini', 'kinilah', 'kira', 'kira-kira', 'kiranya', 'kita', 'kitalah', 'kok', 'kurang', 'lagi', 'lagian', 'lah', 'lain', 'lainnya', 'lalu', 'lama', 'lamanya', 'lanjut', 'lanjutnya', 'lebih', 'lewat', 'lima', 'luar', 'macam', 'maka', 'makanya', 'makin', 'malah', 'malahan', 'mampu', 'mampukah', 'mana', 'manakala', 'manalagi', 'masa', 'masalah', 'masalahnya', 'masih', 'masihkah', 'masing', 'masing-masing', 'mau', 'maupun', 'melainkan', 'melakukan', 'melalui', 'melihat', 'melihatnya', 'memang', 'memastikan', 'memberi', 'memberikan', 'membuat', 'memerlukan', 'memihak', 'meminta', 'memintakan', 'memisalkan', 'memperbuat', 'mempergunakan', 'memperkirakan', 'memperlihatkan', 'mempersiapkan', 'mempersoalkan', 'mempertanyakan', 'mempunyai', 'memulai', 'memungkinkan', 'menaiki', 'menambahkan', 'menandaskan', 'menanti', 'menanti-nanti', 'menantikan', 'menanya', 'menanyai', 'menanyakan', 'mendapat', 'mendapatkan', 'mendatang', 'mendatangi', 'mendatangkan', 'menegaskan', 'mengakhiri', 'mengapa', 'mengatakan', 'mengatakannya', 'mengenai', 'mengerjakan', 'mengetahui', 'menggunakan', 'menghendaki', 'mengibaratkan', 'mengibaratkannya', 'mengingat', 'mengingatkan', 'menginginkan', 'mengira', 'mengucapkan', 'mengucapkannya', 'mengungkapkan', 'menjadi', 'menjawab', 'menjelaskan', 'menuju', 'menunjuk', 'menunjuki', 'menunjukkan', 'menunjuknya', 'menurut', 'menuturkan', 'menyampaikan', 'menyangkut', 'menyatakan', 'menyebutkan', 'menyeluruh', 'menyiapkan', 'merasa', 'mereka', 'merekalah', 'merupakan', 'meski', 'meskipun', 'meyakini', 'meyakinkan', 'minta', 'mirip', 'misal', 'misalkan', 'misalnya', 'mula', 'mulai', 'mulailah', 'mulanya', 'mungkin', 'mungkinkah', 'nah', 'naik', 'namun', 'nanti', 'nantinya', 'nyaris', 'nyatanya', 'oleh', 'olehnya', 'pada', 'padahal', 'padanya', 'pak', 'paling', 'panjang', 'pantas', 'para', 'pasti', 'pastilah', 'penting', 'pentingnya', 'per', 'percuma', 'perlu', 'perlukah', 'perlunya', 'pernah', 'persoalan', 'pertama', 'pertama-tama', 'pertanyaan', 'pertanyakan', 'pihak', 'pihaknya', 'pukul', 'pula', 'pun', 'punya', 'rasa', 'rasanya', 'rata', 'rupanya', 'saat', 'saatnya', 'saja', 'sajalah', 'saling', 'sama', 'sama-sama', 'sambil', 'sampai', 'sampai-sampai', 'sampaikan', 'sana', 'sangat', 'sangatlah', 'satu', 'saya', 'sayalah', 'se', 'sebab', 'sebabnya', 'sebagai', 'sebagaimana', 'sebagainya', 'sebagian', 'sebaik', 'sebaik-baiknya', 'sebaiknya', 'sebaliknya', 'sebanyak', 'sebegini', 'sebegitu', 'sebelum', 'sebelumnya', 'sebenarnya', 'seberapa', 'sebesar', 'sebetulnya', 'sebisanya', 'sebuah', 'sebut', 'sebutlah', 'sebutnya', 'secara', 'secukupnya', 'sedang', 'sedangkan', 'sedemikian', 'sedikit', 'sedikitnya', 'seenaknya', 'segala', 'segalanya', 'segera', 'seharusnya', 'sehingga', 'seingat', 'sejak', 'sejauh', 'sejenak', 'sejumlah', 'sekadar', 'sekadarnya', 'sekali', 'sekali-kali', 'sekalian', 'sekaligus', 'sekalipun', 'sekarang', 'sekarang', 'sekecil', 'seketika', 'sekiranya', 'sekitar', 'sekitarnya', 'sekurang-kurangnya', 'sekurangnya', 'sela', 'selain', 'selaku', 'selalu', 'selama', 'selama-lamanya', 'selamanya', 'selanjutnya', 'seluruh', 'seluruhnya', 'semacam', 'semakin', 'semampu', 'semampunya', 'semasa', 'semasih', 'semata', 'semata-mata', 'semaunya', 'sementara', 'semisal', 'semisalnya', 'sempat', 'semua', 'semuanya', 'semula', 'sendiri', 'sendirian', 'sendirinya', 'seolah', 'seolah-olah', 'seorang', 'sepanjang', 'sepantasnya', 'sepantasnyalah', 'seperlunya', 'seperti', 'sepertinya', 'sepihak', 'sering', 'seringnya', 'serta', 'serupa', 'sesaat', 'sesama', 'sesampai', 'sesegera', 'sesekali', 'seseorang', 'sesuatu', 'sesuatunya', 'sesudah', 'sesudahnya', 'setelah', 'setempat', 'setengah', 'seterusnya', 'setiap', 'setiba', 'setibanya', 'setidak-tidaknya', 'setidaknya', 'setinggi', 'seusai', 'sewaktu', 'siap', 'siapa', 'siapakah', 'siapapun', 'sini', 'sinilah', 'soal', 'soalnya', 'suatu', 'sudah', 'sudahkah', 'sudahlah', 'supaya', 'tadi', 'tadinya', 'tahu', 'tahun', 'tak', 'tambah', 'tambahnya', 'tampak', 'tampaknya', 'tandas', 'tandasnya', 'tanpa', 'tanya', 'tanyakan', 'tanyanya', 'tapi', 'tegas', 'tegasnya', 'telah', 'tempat', 'tengah', 'tentang', 'tentu', 'tentulah', 'tentunya', 'tepat', 'terakhir', 'terasa', 'terbanyak', 'terdahulu', 'terdapat', 'terdiri', 'terhadap', 'terhadapnya', 'teringat', 'teringat-ingat', 'terjadi', 'terjadilah', 'terjadinya', 'terkira', 'terlalu', 'terlebih', 'terlihat', 'termasuk', 'ternyata', 'tersampaikan', 'tersebut', 'tersebutlah', 'tertentu', 'tertuju', 'terus', 'terutama', 'tetap', 'tetapi', 'tiap', 'tiba', 'tiba-tiba', 'tidak', 'tidakkah', 'tidaklah', 'tiga', 'tinggi', 'toh', 'tunjuk', 'turut', 'tutur', 'tuturnya', 'ucap', 'ucapnya', 'ujar', 'ujarnya', 'umum', 'umumnya', 'ungkap', 'ungkapnya', 'untuk', 'usah', 'usai', 'waduh', 'wah', 'wahai', 'waktu', 'waktunya', 'walau', 'walaupun', 'wong', 'yaitu', 'yakin', 'yakni', 'yang']\n"
          ]
        }
      ]
    },
    {
      "cell_type": "code",
      "source": [
        "from nltk.corpus import stopwords\n",
        "text = \"Ketuhanan Yang Maha Esa, Kemanusiaan Yang Adil dan Beradab, Persatuan Indonesia, Kerakyatan Yang Dipimpin oleh Hikmat Kebijaksanaan, Dalam Permusyawaratan dan Perwakilan, Keadilan Sosial bagi seluruh Rakyat Indonesia\"\n",
        "words = word_tokenize(text)\n",
        "words_without_stopwords = [word for word in words if word not in stopwords.words('indonesian')]\n",
        "print(words_without_stopwords)"
      ],
      "metadata": {
        "colab": {
          "base_uri": "https://localhost:8080/"
        },
        "id": "ePWSBa3CTKj0",
        "outputId": "73438932-33a5-4529-bfb2-2249b30a287a"
      },
      "execution_count": null,
      "outputs": [
        {
          "output_type": "stream",
          "name": "stdout",
          "text": [
            "['Ketuhanan', 'Yang', 'Maha', 'Esa', ',', 'Kemanusiaan', 'Yang', 'Adil', 'Beradab', ',', 'Persatuan', 'Indonesia', ',', 'Kerakyatan', 'Yang', 'Dipimpin', 'Hikmat', 'Kebijaksanaan', ',', 'Dalam', 'Permusyawaratan', 'Perwakilan', ',', 'Keadilan', 'Sosial', 'Rakyat', 'Indonesia']\n"
          ]
        }
      ]
    },
    {
      "cell_type": "markdown",
      "source": [
        "#Task 2: Text classification based on Bag-of-Words\n",
        "\n",
        "Write a Python script on a Google Colab: \n",
        "1. Define three possible text topics: Health, Sport, Finance.\n",
        "2. Find texts/articles as the basis/training of the three topics.\n",
        "3. Compute the Bag-of-Words vector for each topic.\n",
        "4. Classify this text to the correct topic:\n",
        "\n",
        "“Cristiano Ronaldo came off the bench to earn Manchester United a hard-fought 2-1 victory at Everton in the Premier League on Sunday, taking his career goal tally to 700 in the process. Just as United did last weekend in their derby mauling at the hands of local rivals Manchester City, they again found themselves behind early on at Goodison Park after Alex Iwobi curled a sublime strike into the net from 20 metres.”"
      ],
      "metadata": {
        "id": "aHQ32QR64FAw"
      }
    },
    {
      "cell_type": "code",
      "source": [
        "from nltk.stem import WordNetLemmatizer\n",
        "lemmatizer = WordNetLemmatizer() ## Create object for lemmatizer\n",
        "\n",
        "# Three texts with labeled topic\n",
        "text_sport = \"by the way Liverpool held off a late charge from Tottenham after Mohamed Salah struck twice to win 2-1 in north London and lift themselves back into the Premier League top-four race. Jurgen Klopp side had suffered shock defeats to relegation-threatened pair Nottingham Forest and Leeds in their last two league outings but started fast against Spurs, with a sharp touch and finish into the bottom corner from in-form Salah giving them the lead on 11 minutes. Ivan Perisic had a header deflected onto the post by Liverpool goalkeeper Alisson and Ryan Sessegnon saw a penalty shout from a challenge by Trent Alexander-Arnold waved away as Spurs came to life - but the Reds struck again just before the break thanks to a gift from Eric Dier. The centre-back miscued a header towards his own goal and Salah (40) raced through to chip in his ninth goal in eight games. Tottenham were sent out early for the second half and - not for the first time this season - were better after the break, with Alisson again pushing a Perisic effort onto the woodwork before Harry Kane (70) fired home a brilliant strike when played in by sub Dejan Kulusevski. Rodrigo Bentancur went close with a couple of headers and Kane glanced wide as Spurs desperately sought another late goal but Liverpool clung on for their first away win in the Premier League this season to move up to eighth and within seven points of fourth-placed Spurs, with a game in hand.\"\n",
        "text_medical = \"There is growing popularity of the Hospital Incident Command System (HICS) as an organizational tool for hospital management in the COVID-19 pandemic. We specifically describe implementation of HICS at the Isfahan province reference hospital (Isabn-e-Maryam) during the COVID-19 pandemic and try to explore performance of it. Methods: To document the actions taken during the COVID-19 pandemic, standard, open-ended interviews were conducted with individuals occupying activated HICS leadership positions during the event. A checklist based on the job action sheets of the HICS was used for performance assessment. Results: With the onset of the pandemic, hospital director revised ICS structure that adheres to span of better control of COVID-19. Methods of expanding hospital inpatient capacity to enable surge capacity were considered. The highest performance score was in the field of planning. Performance was intermediate in Financial/Administration section and good in other fields. Discussion: In the current COVID-19 pandemic, establishing HICS with some consideration about long-standing events can help improve communication, resource use, staff and patient protection, and maintenance of roles.\"\n",
        "text_finance = \"According to Fidelity’s Financial Resolutions survey, saving more money was the number one-resolution for respondents. Close to half (43%) said this was a goal they wanted to work toward in the new year. Building a nest egg can help you pay for big ticket items — like a house, a vacation, a wedding or even just an expensive item you really want — without taking on additional debt. Having savings can also come in handy if an emergency expense comes up. If you’re looking to increase your savings in the new year, it helps to start small — even if you’re only transferring $10 a week into your savings account. Starting small helps you build a muscle for saving. This way, when you receive salary bumps, bonuses and gift money, you’ve already gotten into the habit of saving, and you’ll be more likely to transfer that money to your savings account. You may also want to consider automating that process instead of just manually moving money into your savings. Relying on manual transfers leaves a lot of room for procrastination — and before we know it, we’ve spent the money we intended to save. But when you set up automatic transfers into your savings account, you take away the need to make that decision altogether. You can usually schedule automatic transfers through your bank’s mobile app. Lastly, if you want to see your savings grow just a little faster, you can opt for a high-yield savings account instead of a traditional savings account. High-yield savings accounts — like the Marcus by Goldman Sachs Online Savings Account or the Ally Online Savings Account — pay you more in interest each month compared to traditional savings accounts.\"\n",
        "\n",
        "texts = [text_sport, text_medical, text_finance]\n",
        "bow_keys = []\n",
        "corpus_texts = []\n",
        "for text in texts:\n",
        "    words  = word_tokenize(text)\n",
        "    texts = [lemmatizer.lemmatize(word) for word in words if word not in set(stopwords.words('english'))]\n",
        "    bow_keys += texts\n",
        "    text = ' '.join(texts)\n",
        "    corpus_texts.append(text)\n",
        "bow_keys = set(bow_keys)\n",
        "print(bow_keys)   #### Cleaned Data\n",
        "print(corpus_texts)   #### Cleaned Data"
      ],
      "metadata": {
        "colab": {
          "base_uri": "https://localhost:8080/"
        },
        "id": "sMOR1wpmejZd",
        "outputId": "0f8b4d08-ef57-4f07-9539-c930f7dfcffb"
      },
      "execution_count": null,
      "outputs": [
        {
          "output_type": "stream",
          "name": "stdout",
          "text": [
            "{'try', 'structure', '43', 'corner', 'two', 'Rodrigo', 'post', 'Ivan', 'With', 'last', 'Reds', 'break', 'assessment', 'used', 'held', 'centre-back', 'respondent', 'Bentancur', 'fast', 'taking', 'System', 'lead', 'instead', 'little', 'province', 'spent', 'relegation-threatened', 'checklist', '-', 'interest', 'opt', 'enable', 'The', 'individual', 'close', 'patient', 'season', '40', 'establishing', 'communication', 'make', 'leadership', 'gotten', 'big', 'transferring', 'strike', 'According', 'manually', 'expense', 'field', 'sent', 'planning', 'section', 'manual', 'increase', 'surge', 'Ryan', 'bump', 'Spurs', 'point', 'open-ended', 'popularity', 'another', 'Kulusevski', 'You', 'money', 'expanding', 'eight', 'Account', 'may', 'league', 'pushing', ')', 'toward', 'know', 'bank', 'item', 'automatic', 'growing', 'current', 'bottom', 'Isfahan', 'number', 'capacity', 'muscle', 'year', 'Marcus', 'better', 'Mohamed', 'month', 'lift', 'implementation', 'fired', 'woodwork', 'sought', 'finish', 'glanced', '10', 'outing', 'management', 'good', 'time', 'leaf', 'explore', 'Online', 'revised', '70', 'race', 'consideration', 'raced', 'Building', 'nest', 'wide', 'London', 'Kane', 'played', 'League', 'see', 'eighth', 'We', 'hand', 'Ally', 'help', 'second', 'lot', 'emergency', 'describe', 'onto', 'Alisson', 'Nottingham', 'compared', 'want', 'work', 'back', 'started', 'Close', 'without', 'Having', 'Leeds', 'considered', 'top-four', 'conducted', 'job', 'Methods', 'charge', 'tool', 'Discussion', 'faster', 'ICS', 'HICS', 'consider', 'said', 'build', 'defeat', 'ninth', 'span', 'room', 'director', 'habit', 'pay', 'take', 'In', 'Harry', 'account', 'header', 'thanks', 'staff', 'Trent', 'come', '$', 'win', 'goal', 'giving', '.', 'Sachs', 'deflected', 'in-form', 'To', '11', 'expensive', 'moving', 'control', 'But', 'move', 'traditional', 'sharp', 'penalty', 'taken', 'altogether', 'start', 'intended', 'couple', ':', 'within', 'came', 'grow', 'save', 'High-yield', 'Isabn-e-Maryam', 'shout', 'process', 'mobile', 'event', 'life', '%', 'ticket', 'fourth-placed', 'wedding', 'gift', 'Fidelity', 'Lastly', 'sub', 'Performance', 'onset', 'miscued', 'waved', 'vacation', 'half', 'effort', 'really', 'first', 'high-yield', 'COVID-19', 'set', 'saving', 'organizational', 'week', 'seven', 'Incident', 'already', 'transfer', 'interview', 'highest', 'This', 'one-resolution', 'Starting', 'looking', 'Eric', 'resource', 'app', 'Savings', 'adheres', 'minute', 'reference', 'use', 'Sessegnon', 'protection', 'score', 'Salah', 'occupying', 'likely', 'challenge', 'north', 'brilliant', 'action', 'based', 'procrastination', 'Dier', 'hospital', 'usually', 'even', '2-1', 'went', 'If', 'Forest', 'Relying', 'Resolutions', 'intermediate', 'Financial', 'shock', '(', 'towards', 'improve', 'side', 'game', 'additional', 'survey', 'chip', 'long-standing', 'performance', 'Tottenham', 'small', 'new', 'Jurgen', 'home', 'Hospital', 'Financial/Administration', 'debt', 'schedule', 'goalkeeper', 'twice', 'decision', 'salary', 'sheet', 'also', 'saw', 'touch', 'receive', 'like', 'handy', 'Perisic', 'struck', 'Dejan', 'desperately', 'egg', 'Premier', 'late', '—', 'automating', 'Results', 'pandemic', 'Goldman', 'clung', 'specifically', 'house', 'away', 'suffered', 'Klopp', 'There', 'way', 'Alexander-Arnold', 'Command', 'position', 'maintenance', 'A', 'pair', 'need', '’', 'inpatient', 'Liverpool', 'document', 'role', 'early', 'wanted', ',', 'activated', 'standard', 'bonus'}\n",
            "['way Liverpool held late charge Tottenham Mohamed Salah struck twice win 2-1 north London lift back Premier League top-four race . Jurgen Klopp side suffered shock defeat relegation-threatened pair Nottingham Forest Leeds last two league outing started fast Spurs , sharp touch finish bottom corner in-form Salah giving lead 11 minute . Ivan Perisic header deflected onto post Liverpool goalkeeper Alisson Ryan Sessegnon saw penalty shout challenge Trent Alexander-Arnold waved away Spurs came life - Reds struck break thanks gift Eric Dier . The centre-back miscued header towards goal Salah ( 40 ) raced chip ninth goal eight game . Tottenham sent early second half - first time season - better break , Alisson pushing Perisic effort onto woodwork Harry Kane ( 70 ) fired home brilliant strike played sub Dejan Kulusevski . Rodrigo Bentancur went close couple header Kane glanced wide Spurs desperately sought another late goal Liverpool clung first away win Premier League season move eighth within seven point fourth-placed Spurs , game hand .', 'There growing popularity Hospital Incident Command System ( HICS ) organizational tool hospital management COVID-19 pandemic . We specifically describe implementation HICS Isfahan province reference hospital ( Isabn-e-Maryam ) COVID-19 pandemic try explore performance . Methods : To document action taken COVID-19 pandemic , standard , open-ended interview conducted individual occupying activated HICS leadership position event . A checklist based job action sheet HICS used performance assessment . Results : With onset pandemic , hospital director revised ICS structure adheres span better control COVID-19 . Methods expanding hospital inpatient capacity enable surge capacity considered . The highest performance score field planning . Performance intermediate Financial/Administration section good field . Discussion : In current COVID-19 pandemic , establishing HICS consideration long-standing event help improve communication , resource use , staff patient protection , maintenance role .', 'According Fidelity ’ Financial Resolutions survey , saving money number one-resolution respondent . Close half ( 43 % ) said goal wanted work toward new year . Building nest egg help pay big ticket item — like house , vacation , wedding even expensive item really want — without taking additional debt . Having saving also come handy emergency expense come . If ’ looking increase saving new year , help start small — even ’ transferring $ 10 week saving account . Starting small help build muscle saving . This way , receive salary bump , bonus gift money , ’ already gotten habit saving , ’ likely transfer money saving account . You may also want consider automating process instead manually moving money saving . Relying manual transfer leaf lot room procrastination — know , ’ spent money intended save . But set automatic transfer saving account , take away need make decision altogether . You usually schedule automatic transfer bank ’ mobile app . Lastly , want see saving grow little faster , opt high-yield saving account instead traditional saving account . High-yield saving account — like Marcus Goldman Sachs Online Savings Account Ally Online Savings Account — pay interest month compared traditional saving account .']\n"
          ]
        }
      ]
    },
    {
      "cell_type": "code",
      "source": [
        "# A new text to be classified based on topic\n",
        "query_text = \"“Cristiano Ronaldo came off the bench to earn Manchester United a hard-fought 2-1 victory at Everton in the Premier League on Sunday, taking his career goal tally to 700 in the process. Just as United did last weekend in their derby mauling at the hands of local rivals Manchester City, they again found themselves behind early on at Goodison Park after Alex Iwobi curled a sublime strike into the net from 20 metres.”\"\n",
        "query_words = word_tokenize(query_text)\n",
        "query_words_clean = [lemmatizer.lemmatize(word) for word in query_words if word not in set(stopwords.words('english'))]\n",
        "query_words_corpus = [word for word in query_words_clean if word in set(bow_keys)]\n",
        "query_text_corpus = ' '.join(query_words_corpus)\n",
        "corpus_texts.append(query_text_corpus)\n",
        "\n",
        "from sklearn.feature_extraction.text import CountVectorizer\n",
        "cv = CountVectorizer() ## Creating Object for CountVectorizer\n",
        "bow_vectors = cv.fit_transform(corpus_texts).toarray()\n",
        "print(bow_vectors)\n",
        "print(len(bow_vectors[0]))"
      ],
      "metadata": {
        "colab": {
          "base_uri": "https://localhost:8080/"
        },
        "id": "j_FjnP-PkM-g",
        "outputId": "0c124584-0e29-4f9e-93d6-4a59a2d39026"
      },
      "execution_count": null,
      "outputs": [
        {
          "output_type": "stream",
          "name": "stdout",
          "text": [
            "[[0 1 0 ... 0 0 0]\n",
            " [0 0 5 ... 0 0 0]\n",
            " [1 0 0 ... 2 2 2]\n",
            " [0 0 0 ... 0 0 0]]\n",
            "330\n"
          ]
        }
      ]
    },
    {
      "cell_type": "markdown",
      "source": [
        "Classification based on maximum similarity"
      ],
      "metadata": {
        "id": "dx6PW5u93IlM"
      }
    },
    {
      "cell_type": "code",
      "source": [
        "# Normalize the BoW vectors\n",
        "bow_texts_norm = []\n",
        "for bow in bow_vectors:\n",
        "  length = (sum(i*i for i in bow)) ** 0.5\n",
        "  bow_norm = bow / length\n",
        "  bow_texts_norm.append(bow_norm)\n",
        "\n",
        "# Compute similarity using dot product\n",
        "similarity_vector = []\n",
        "bow_norm_query = bow_texts_norm[3]\n",
        "for bow in bow_texts_norm[:3]:\n",
        "  similarity_vector.append(sum(i*j for i,j in zip(bow,bow_norm_query)))\n",
        "print(similarity_vector)\n",
        "\n",
        "# Find the highest similarity\n",
        "id_max_sim = similarity_vector.index(max(similarity_vector))\n",
        "if (id_max_sim == 0):\n",
        "  print (\"The query text is classified as: Sport\")\n",
        "elif (id_max_sim == 1):\n",
        "  print (\"The query text is classified as: Medical\")\n",
        "elif (id_max_sim == 2):\n",
        "  print (\"The query text is classified as: Finance\")"
      ],
      "metadata": {
        "colab": {
          "base_uri": "https://localhost:8080/"
        },
        "id": "bv3Zx7M3hFuK",
        "outputId": "5952220b-810a-484a-b06a-5bd0e1cee33c"
      },
      "execution_count": null,
      "outputs": [
        {
          "output_type": "stream",
          "name": "stdout",
          "text": [
            "[0.2722550403896021, 0.0, 0.04234180777032276]\n",
            "The query text is classified as: Sport\n"
          ]
        }
      ]
    },
    {
      "cell_type": "markdown",
      "source": [
        "#Task 3: Understanding the challenge of NLP\n",
        "\n",
        "Explain briefly the challenges that make NLP difficult to reach human level sense."
      ],
      "metadata": {
        "id": "rj0kRg6QGHQX"
      }
    },
    {
      "cell_type": "markdown",
      "source": [
        "#Answer\n",
        "\n",
        "First, the same words and phrases can have different meanings according to the context of the sentence and the number of words. Second, synonyms can cause problems because we use many different words to express the same idea. Third, irony and sarcasm present a problem for machine learning models because they commonly use words and phrases that, by definition, may be positive or negative, but actually connote the opposite. Fifth, there is an informal language. Everyday language may not have a \"dictionary definition\" at all, and these expressions may even mean different things in different geographic areas. In addition, slang culture is constantly changing and developing, so new words appear every day. This makes NLP difficult to reach human level sense.\n"
      ],
      "metadata": {
        "id": "pIXW4r5BJrGJ"
      }
    }
  ]
}